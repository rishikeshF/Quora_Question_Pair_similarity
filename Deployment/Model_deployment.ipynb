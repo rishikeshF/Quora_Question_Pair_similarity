{
 "cells": [
  {
   "cell_type": "code",
   "execution_count": 32,
   "id": "4f8e6d6f",
   "metadata": {},
   "outputs": [],
   "source": [
    "import numpy as np\n",
    "import pandas as pd\n",
    "import pickle\n",
    "from sentence_transformers import SentenceTransformer\n",
    "import re"
   ]
  },
  {
   "cell_type": "code",
   "execution_count": 4,
   "id": "f54069a3",
   "metadata": {},
   "outputs": [],
   "source": [
    "filename = 'RFC_tuned.sav'\n",
    "loaded_model = pickle.load(open(filename, 'rb'))\n",
    "vectorizer = SentenceTransformer('all-MiniLM-L6-v2')"
   ]
  },
  {
   "cell_type": "code",
   "execution_count": 33,
   "id": "ac31aafd",
   "metadata": {},
   "outputs": [],
   "source": [
    "# reference : https://stackoverflow.com/questions/9662346/python-code-to-remove-html-tags-from-a-string\n",
    "def cleanhtml(raw_html, CLEANR):\n",
    "    cleantext = re.sub(CLEANR, '', raw_html)\n",
    "    return cleantext\n",
    "\n",
    "# reference : https://stackoverflow.com/questions/19790188/expanding-english-language-contractions-in-python\n",
    "def decontracted(phrase):\n",
    "    \n",
    "    # mathematical symbols \n",
    "    phrase = re.sub(r'000,000', 'm',phrase)\n",
    "    phrase = re.sub(r'000','k',phrase)\n",
    "    \n",
    "    # specific\n",
    "    phrase = re.sub(r\"won\\'t\", \"will not\", phrase)\n",
    "    phrase = re.sub(r\"can\\'t\", \"can not\", phrase)\n",
    "\n",
    "    # general\n",
    "    phrase = re.sub(r\"n\\'t\", \" not\", phrase)\n",
    "    phrase = re.sub(r\"\\'re\", \" are\", phrase)\n",
    "    phrase = re.sub(r\"\\'s\", \" is\", phrase)\n",
    "    phrase = re.sub(r\"\\'d\", \" would\", phrase)\n",
    "    phrase = re.sub(r\"\\'ll\", \" will\", phrase)\n",
    "    phrase = re.sub(r\"\\'t\", \" not\", phrase)\n",
    "    phrase = re.sub(r\"\\'ve\", \" have\", phrase)\n",
    "    phrase = re.sub(r\"\\'m\", \" am\", phrase)\n",
    "    return phrase\n",
    "\n",
    "def preprocessText(text):\n",
    "    # convert text to lower case\n",
    "    text = text.lower()\n",
    "    # remove html tags and unknown unicode characters like &nbsm etc\n",
    "    CLEANR = re.compile('<.*?>|&([a-z0-9]+|#[0-9]{1,6}|#x[0-9a-f]{1,6});')\n",
    "    text = cleanhtml(text, CLEANR)\n",
    "    # remove contractions\n",
    "    text = decontracted(text)\n",
    "    return text"
   ]
  },
  {
   "cell_type": "code",
   "execution_count": 36,
   "id": "9dbb8ef1",
   "metadata": {},
   "outputs": [],
   "source": [
    "def getSimilarity(q1,q2):\n",
    "    q1, q2 = preprocessText(q1), preprocessText(q2)\n",
    "    vect1 = vectorizer.encode(q1)\n",
    "    vect2 = vectorizer.encode(q2)\n",
    "    vect = np.concatenate((vect1,vect2))\n",
    "    prediction = loaded_model.predict(vect.reshape(1,-1))[0]\n",
    "    prediction_proba = round(loaded_model.predict_proba(vect.reshape(1,-1))[0][1]*100,2)\n",
    "    if prediction == 0 : \n",
    "        return 'Given questions are not similar with similarity score of ' + str(prediction_proba) + '%'\n",
    "    elif prediction == 1 : \n",
    "        return 'Given questions are similar with similarity score of ' + str(prediction_proba) + '%'"
   ]
  },
  {
   "cell_type": "code",
   "execution_count": 37,
   "id": "a2997d72",
   "metadata": {},
   "outputs": [
    {
     "data": {
      "text/plain": [
       "'Given questions are similar with similarity score of 51.08%'"
      ]
     },
     "execution_count": 37,
     "metadata": {},
     "output_type": "execute_result"
    }
   ],
   "source": [
    "q1 = 'who are you'\n",
    "q2 = 'what is your name'\n",
    "getSimilarity(q1,q2)"
   ]
  },
  {
   "cell_type": "code",
   "execution_count": 39,
   "id": "0d99ba86",
   "metadata": {},
   "outputs": [
    {
     "name": "stderr",
     "output_type": "stream",
     "text": [
      "2022-12-03 19:20:59.151 \n",
      "  \u001b[33m\u001b[1mWarning:\u001b[0m to view this Streamlit app on a browser, run it with the following\n",
      "  command:\n",
      "\n",
      "    streamlit run D:\\Anaconda\\anacondaa\\lib\\site-packages\\ipykernel_launcher.py [ARGUMENTS]\n"
     ]
    }
   ],
   "source": [
    "import streamlit as st\n",
    "title = st.text_input('Movie title', 'Life of Brian')\n",
    "st.write('The current movie title is', title)"
   ]
  },
  {
   "cell_type": "code",
   "execution_count": null,
   "id": "7e920ebe",
   "metadata": {},
   "outputs": [],
   "source": []
  }
 ],
 "metadata": {
  "kernelspec": {
   "display_name": "Python 3 (ipykernel)",
   "language": "python",
   "name": "python3"
  },
  "language_info": {
   "codemirror_mode": {
    "name": "ipython",
    "version": 3
   },
   "file_extension": ".py",
   "mimetype": "text/x-python",
   "name": "python",
   "nbconvert_exporter": "python",
   "pygments_lexer": "ipython3",
   "version": "3.9.13"
  }
 },
 "nbformat": 4,
 "nbformat_minor": 5
}
