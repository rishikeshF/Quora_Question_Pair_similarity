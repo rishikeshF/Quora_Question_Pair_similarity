{
 "cells": [
  {
   "cell_type": "markdown",
   "metadata": {},
   "source": [
    "## Data preprocessing"
   ]
  },
  {
   "cell_type": "markdown",
   "metadata": {},
   "source": [
    "#### The need for data preprocessing\n",
    "\n",
    "1. Data contains null text values which need to be removed.\n",
    "2. Data contains html text which needs to be removed.\n",
    "3. Data contains punctuations, contractions which need to be aptly dealt with to make data ready for featurization\n",
    "\n",
    "#### The need for feature engineering and featurization\n",
    "\n",
    "1. Data is in text format which cannot be fed to machine learning models as the system cannot understand textual data. Therefore, data needs to be converted to numeric form i.e. vectors to be able to be used for training machine learning model. Featurization therefore is required to convert the textual data into numeric features that can actually be fed to machine learning model to work on."
   ]
  },
  {
   "cell_type": "code",
   "execution_count": 27,
   "metadata": {},
   "outputs": [],
   "source": [
    "import pandas as pd\n",
    "import numpy as np\n",
    "import re\n",
    "from sklearn.model_selection import train_test_split\n",
    "import matplotlib.pyplot as plt\n",
    "pd.options.display.max_colwidth = None\n",
    "%matplotlib inline"
   ]
  },
  {
   "cell_type": "code",
   "execution_count": 2,
   "metadata": {},
   "outputs": [
    {
     "data": {
      "text/html": [
       "<div>\n",
       "<style scoped>\n",
       "    .dataframe tbody tr th:only-of-type {\n",
       "        vertical-align: middle;\n",
       "    }\n",
       "\n",
       "    .dataframe tbody tr th {\n",
       "        vertical-align: top;\n",
       "    }\n",
       "\n",
       "    .dataframe thead th {\n",
       "        text-align: right;\n",
       "    }\n",
       "</style>\n",
       "<table border=\"1\" class=\"dataframe\">\n",
       "  <thead>\n",
       "    <tr style=\"text-align: right;\">\n",
       "      <th></th>\n",
       "      <th>qid1</th>\n",
       "      <th>qid2</th>\n",
       "      <th>question1</th>\n",
       "      <th>question2</th>\n",
       "      <th>is_duplicate</th>\n",
       "    </tr>\n",
       "    <tr>\n",
       "      <th>id</th>\n",
       "      <th></th>\n",
       "      <th></th>\n",
       "      <th></th>\n",
       "      <th></th>\n",
       "      <th></th>\n",
       "    </tr>\n",
       "  </thead>\n",
       "  <tbody>\n",
       "    <tr>\n",
       "      <th>0</th>\n",
       "      <td>1</td>\n",
       "      <td>2</td>\n",
       "      <td>What is the step by step guide to invest in share market in india?</td>\n",
       "      <td>What is the step by step guide to invest in share market?</td>\n",
       "      <td>0</td>\n",
       "    </tr>\n",
       "    <tr>\n",
       "      <th>1</th>\n",
       "      <td>3</td>\n",
       "      <td>4</td>\n",
       "      <td>What is the story of Kohinoor (Koh-i-Noor) Diamond?</td>\n",
       "      <td>What would happen if the Indian government stole the Kohinoor (Koh-i-Noor) diamond back?</td>\n",
       "      <td>0</td>\n",
       "    </tr>\n",
       "    <tr>\n",
       "      <th>2</th>\n",
       "      <td>5</td>\n",
       "      <td>6</td>\n",
       "      <td>How can I increase the speed of my internet connection while using a VPN?</td>\n",
       "      <td>How can Internet speed be increased by hacking through DNS?</td>\n",
       "      <td>0</td>\n",
       "    </tr>\n",
       "    <tr>\n",
       "      <th>3</th>\n",
       "      <td>7</td>\n",
       "      <td>8</td>\n",
       "      <td>Why am I mentally very lonely? How can I solve it?</td>\n",
       "      <td>Find the remainder when [math]23^{24}[/math] is divided by 24,23?</td>\n",
       "      <td>0</td>\n",
       "    </tr>\n",
       "    <tr>\n",
       "      <th>4</th>\n",
       "      <td>9</td>\n",
       "      <td>10</td>\n",
       "      <td>Which one dissolve in water quikly sugar, salt, methane and carbon di oxide?</td>\n",
       "      <td>Which fish would survive in salt water?</td>\n",
       "      <td>0</td>\n",
       "    </tr>\n",
       "  </tbody>\n",
       "</table>\n",
       "</div>"
      ],
      "text/plain": [
       "    qid1  qid2  \\\n",
       "id               \n",
       "0      1     2   \n",
       "1      3     4   \n",
       "2      5     6   \n",
       "3      7     8   \n",
       "4      9    10   \n",
       "\n",
       "                                                                       question1  \\\n",
       "id                                                                                 \n",
       "0             What is the step by step guide to invest in share market in india?   \n",
       "1                            What is the story of Kohinoor (Koh-i-Noor) Diamond?   \n",
       "2      How can I increase the speed of my internet connection while using a VPN?   \n",
       "3                             Why am I mentally very lonely? How can I solve it?   \n",
       "4   Which one dissolve in water quikly sugar, salt, methane and carbon di oxide?   \n",
       "\n",
       "                                                                                   question2  \\\n",
       "id                                                                                             \n",
       "0                                  What is the step by step guide to invest in share market?   \n",
       "1   What would happen if the Indian government stole the Kohinoor (Koh-i-Noor) diamond back?   \n",
       "2                                How can Internet speed be increased by hacking through DNS?   \n",
       "3                          Find the remainder when [math]23^{24}[/math] is divided by 24,23?   \n",
       "4                                                    Which fish would survive in salt water?   \n",
       "\n",
       "    is_duplicate  \n",
       "id                \n",
       "0              0  \n",
       "1              0  \n",
       "2              0  \n",
       "3              0  \n",
       "4              0  "
      ]
     },
     "execution_count": 2,
     "metadata": {},
     "output_type": "execute_result"
    }
   ],
   "source": [
    "# Importing the training data\n",
    "df = pd.read_csv('train.csv').set_index('id')\n",
    "df.head()"
   ]
  },
  {
   "cell_type": "code",
   "execution_count": 3,
   "metadata": {},
   "outputs": [
    {
     "data": {
      "text/plain": [
       "(404287, 5)"
      ]
     },
     "execution_count": 3,
     "metadata": {},
     "output_type": "execute_result"
    }
   ],
   "source": [
    "# As there are only three null values, we can safely remove those null values form the dataset\n",
    "df.dropna(inplace=True)\n",
    "df.shape"
   ]
  },
  {
   "cell_type": "code",
   "execution_count": 4,
   "metadata": {},
   "outputs": [],
   "source": [
    "# The columns qid1 and qid2 are nothing but identifiers for the questions and therefore can be dropped. \n",
    "df.drop(columns =['qid1','qid2'],inplace=True)"
   ]
  },
  {
   "cell_type": "code",
   "execution_count": 5,
   "metadata": {},
   "outputs": [
    {
     "data": {
      "text/html": [
       "<div>\n",
       "<style scoped>\n",
       "    .dataframe tbody tr th:only-of-type {\n",
       "        vertical-align: middle;\n",
       "    }\n",
       "\n",
       "    .dataframe tbody tr th {\n",
       "        vertical-align: top;\n",
       "    }\n",
       "\n",
       "    .dataframe thead th {\n",
       "        text-align: right;\n",
       "    }\n",
       "</style>\n",
       "<table border=\"1\" class=\"dataframe\">\n",
       "  <thead>\n",
       "    <tr style=\"text-align: right;\">\n",
       "      <th></th>\n",
       "      <th>question1</th>\n",
       "      <th>question2</th>\n",
       "      <th>is_duplicate</th>\n",
       "    </tr>\n",
       "    <tr>\n",
       "      <th>id</th>\n",
       "      <th></th>\n",
       "      <th></th>\n",
       "      <th></th>\n",
       "    </tr>\n",
       "  </thead>\n",
       "  <tbody>\n",
       "    <tr>\n",
       "      <th>60045</th>\n",
       "      <td>What do you think of Mr. Modi's decision to discontinue Rs 500 and 1000 currencies as of midnight November 8th?</td>\n",
       "      <td>What do you think about Modi's new policy on the ban of Rs 500 and Rs 1000 notes?</td>\n",
       "      <td>1</td>\n",
       "    </tr>\n",
       "    <tr>\n",
       "      <th>274764</th>\n",
       "      <td>How do I find a factorial of a number quickly?</td>\n",
       "      <td>How to find the factorial of a number quickly?</td>\n",
       "      <td>1</td>\n",
       "    </tr>\n",
       "    <tr>\n",
       "      <th>336130</th>\n",
       "      <td>How much will a trip to Goa cost?</td>\n",
       "      <td>How much does one week trip to goa cost?</td>\n",
       "      <td>1</td>\n",
       "    </tr>\n",
       "    <tr>\n",
       "      <th>381967</th>\n",
       "      <td>Where is the list of all the topics on Quora?</td>\n",
       "      <td>Where can I find a list of all Quora-related topics?</td>\n",
       "      <td>1</td>\n",
       "    </tr>\n",
       "    <tr>\n",
       "      <th>232329</th>\n",
       "      <td>How do I prepare for regional rural banks?</td>\n",
       "      <td>How are the jobs of Regional Rural banks under officer Cadre?</td>\n",
       "      <td>0</td>\n",
       "    </tr>\n",
       "    <tr>\n",
       "      <th>169594</th>\n",
       "      <td>Does EVERYONE with OCD have that popular OCD symptom and obsession of symmetry, order, organization and exactness?</td>\n",
       "      <td>Does EVERYONE with OCD have that popular OCD symptom and obsession of symmetry, order, organization and, exactness?</td>\n",
       "      <td>1</td>\n",
       "    </tr>\n",
       "    <tr>\n",
       "      <th>136175</th>\n",
       "      <td>What are the top PS Vita RPG games?</td>\n",
       "      <td>In PS Vita's safe mode function, the rebuild database always removes the same game. Is the game a risk?</td>\n",
       "      <td>0</td>\n",
       "    </tr>\n",
       "    <tr>\n",
       "      <th>371437</th>\n",
       "      <td>What should I spend Platinum on in Warframe?</td>\n",
       "      <td>How do I play Warframe co-op with Steam or another platform?</td>\n",
       "      <td>0</td>\n",
       "    </tr>\n",
       "    <tr>\n",
       "      <th>275742</th>\n",
       "      <td>Is there anyone familiar with Vensim Modelling or modelling in general?</td>\n",
       "      <td>What are generalized additive models?</td>\n",
       "      <td>0</td>\n",
       "    </tr>\n",
       "    <tr>\n",
       "      <th>48029</th>\n",
       "      <td>How good is CL's test gym if you are having only 4 months for CAT preparation? Practicing all these questions will be good enough?</td>\n",
       "      <td>How do I make best use of the CL test gym for the remaining CAT period?</td>\n",
       "      <td>0</td>\n",
       "    </tr>\n",
       "  </tbody>\n",
       "</table>\n",
       "</div>"
      ],
      "text/plain": [
       "                                                                                                                                 question1  \\\n",
       "id                                                                                                                                           \n",
       "60045                      What do you think of Mr. Modi's decision to discontinue Rs 500 and 1000 currencies as of midnight November 8th?   \n",
       "274764                                                                                      How do I find a factorial of a number quickly?   \n",
       "336130                                                                                                   How much will a trip to Goa cost?   \n",
       "381967                                                                                       Where is the list of all the topics on Quora?   \n",
       "232329                                                                                          How do I prepare for regional rural banks?   \n",
       "169594                  Does EVERYONE with OCD have that popular OCD symptom and obsession of symmetry, order, organization and exactness?   \n",
       "136175                                                                                                 What are the top PS Vita RPG games?   \n",
       "371437                                                                                        What should I spend Platinum on in Warframe?   \n",
       "275742                                                             Is there anyone familiar with Vensim Modelling or modelling in general?   \n",
       "48029   How good is CL's test gym if you are having only 4 months for CAT preparation? Practicing all these questions will be good enough?   \n",
       "\n",
       "                                                                                                                  question2  \\\n",
       "id                                                                                                                            \n",
       "60045                                     What do you think about Modi's new policy on the ban of Rs 500 and Rs 1000 notes?   \n",
       "274764                                                                       How to find the factorial of a number quickly?   \n",
       "336130                                                                             How much does one week trip to goa cost?   \n",
       "381967                                                                 Where can I find a list of all Quora-related topics?   \n",
       "232329                                                        How are the jobs of Regional Rural banks under officer Cadre?   \n",
       "169594  Does EVERYONE with OCD have that popular OCD symptom and obsession of symmetry, order, organization and, exactness?   \n",
       "136175              In PS Vita's safe mode function, the rebuild database always removes the same game. Is the game a risk?   \n",
       "371437                                                         How do I play Warframe co-op with Steam or another platform?   \n",
       "275742                                                                                What are generalized additive models?   \n",
       "48029                                               How do I make best use of the CL test gym for the remaining CAT period?   \n",
       "\n",
       "        is_duplicate  \n",
       "id                    \n",
       "60045              1  \n",
       "274764             1  \n",
       "336130             1  \n",
       "381967             1  \n",
       "232329             0  \n",
       "169594             1  \n",
       "136175             0  \n",
       "371437             0  \n",
       "275742             0  \n",
       "48029              0  "
      ]
     },
     "execution_count": 5,
     "metadata": {},
     "output_type": "execute_result"
    }
   ],
   "source": [
    "# check for random subset of data to identify different formatting issues present in the data\n",
    "df.sample(10)"
   ]
  },
  {
   "cell_type": "markdown",
   "metadata": {},
   "source": [
    "#### After carefully inspecting different samples of dataset we can observe that data has following issues that need to be dealt with : \n",
    "1. Contractios like \"can't\", \"haven't\", etc\n",
    "2. Data contains mathematical equations.\n",
    "3. Pronunciations for some words presented in parenthesis. \n",
    "4. Acronyms like 'BITS', 'IIT', , 'DJ'\n",
    "5. Text descriptions and clarifications in parenthesis.\n",
    "6. Punctuation symbols."
   ]
  },
  {
   "cell_type": "markdown",
   "metadata": {},
   "source": [
    "#### Here are the Preprocessing steps that will be used to address these issues : \n",
    "1. Convert all the text in lower case\n",
    "2. Remove html tags using regex\n",
    "3. Replace contractions with the corresponding exapanded form"
   ]
  },
  {
   "cell_type": "code",
   "execution_count": 6,
   "metadata": {},
   "outputs": [],
   "source": [
    "# reference : https://stackoverflow.com/questions/9662346/python-code-to-remove-html-tags-from-a-string\n",
    "def cleanhtml(raw_html, CLEANR):\n",
    "    cleantext = re.sub(CLEANR, '', raw_html)\n",
    "    return cleantext\n",
    "\n",
    "# reference : https://stackoverflow.com/questions/19790188/expanding-english-language-contractions-in-python\n",
    "def decontracted(phrase):\n",
    "    \n",
    "    # mathematical symbols \n",
    "    phrase = re.sub(r'000,000', 'm',phrase)\n",
    "    phrase = re.sub(r'000','k',phrase)\n",
    "    \n",
    "    # specific\n",
    "    phrase = re.sub(r\"won\\'t\", \"will not\", phrase)\n",
    "    phrase = re.sub(r\"can\\'t\", \"can not\", phrase)\n",
    "\n",
    "    # general\n",
    "    phrase = re.sub(r\"n\\'t\", \" not\", phrase)\n",
    "    phrase = re.sub(r\"\\'re\", \" are\", phrase)\n",
    "    phrase = re.sub(r\"\\'s\", \" is\", phrase)\n",
    "    phrase = re.sub(r\"\\'d\", \" would\", phrase)\n",
    "    phrase = re.sub(r\"\\'ll\", \" will\", phrase)\n",
    "    phrase = re.sub(r\"\\'t\", \" not\", phrase)\n",
    "    phrase = re.sub(r\"\\'ve\", \" have\", phrase)\n",
    "    phrase = re.sub(r\"\\'m\", \" am\", phrase)\n",
    "    return phrase\n",
    "\n",
    "def preprocessText(text):\n",
    "    # convert text to lower case\n",
    "    text = text.lower()\n",
    "    # remove html tags and unknown unicode characters like &nbsm etc\n",
    "    CLEANR = re.compile('<.*?>|&([a-z0-9]+|#[0-9]{1,6}|#x[0-9a-f]{1,6});')\n",
    "    text = cleanhtml(text, CLEANR)\n",
    "    # remove contractions\n",
    "    text = decontracted(text)\n",
    "    return text"
   ]
  },
  {
   "cell_type": "code",
   "execution_count": 7,
   "metadata": {},
   "outputs": [
    {
     "data": {
      "text/html": [
       "<div>\n",
       "<style scoped>\n",
       "    .dataframe tbody tr th:only-of-type {\n",
       "        vertical-align: middle;\n",
       "    }\n",
       "\n",
       "    .dataframe tbody tr th {\n",
       "        vertical-align: top;\n",
       "    }\n",
       "\n",
       "    .dataframe thead th {\n",
       "        text-align: right;\n",
       "    }\n",
       "</style>\n",
       "<table border=\"1\" class=\"dataframe\">\n",
       "  <thead>\n",
       "    <tr style=\"text-align: right;\">\n",
       "      <th></th>\n",
       "      <th>question1</th>\n",
       "      <th>question2</th>\n",
       "      <th>is_duplicate</th>\n",
       "    </tr>\n",
       "    <tr>\n",
       "      <th>id</th>\n",
       "      <th></th>\n",
       "      <th></th>\n",
       "      <th></th>\n",
       "    </tr>\n",
       "  </thead>\n",
       "  <tbody>\n",
       "    <tr>\n",
       "      <th>12612</th>\n",
       "      <td>i am confused between vivo v5 and oneplus 2 which one is better?</td>\n",
       "      <td>which phone should i buy, the oneplus 2 or meizu mx4? which one is better?</td>\n",
       "      <td>0</td>\n",
       "    </tr>\n",
       "    <tr>\n",
       "      <th>291788</th>\n",
       "      <td>where can i buy fresh vegetables and fruits in bangalore through online?</td>\n",
       "      <td>where can i buy vegetables and fruits in noida through online?</td>\n",
       "      <td>0</td>\n",
       "    </tr>\n",
       "    <tr>\n",
       "      <th>163884</th>\n",
       "      <td>i do not find my husband as attractive, like before. how do i change this?</td>\n",
       "      <td>i do not think i have ever given my husband a gift he truly liked. this year i want that to change. what are some suggestions?</td>\n",
       "      <td>0</td>\n",
       "    </tr>\n",
       "    <tr>\n",
       "      <th>68663</th>\n",
       "      <td>how do i make a grilled cheese sandwich without soggy bread?</td>\n",
       "      <td>how much cheese can you put in a grilled cheese sandwich?</td>\n",
       "      <td>0</td>\n",
       "    </tr>\n",
       "    <tr>\n",
       "      <th>237879</th>\n",
       "      <td>is there a shortcut code on facebook for the tears of joy emoji?</td>\n",
       "      <td>should not there be an iphone emoji for tears of joy?</td>\n",
       "      <td>0</td>\n",
       "    </tr>\n",
       "  </tbody>\n",
       "</table>\n",
       "</div>"
      ],
      "text/plain": [
       "                                                                         question1  \\\n",
       "id                                                                                   \n",
       "12612             i am confused between vivo v5 and oneplus 2 which one is better?   \n",
       "291788    where can i buy fresh vegetables and fruits in bangalore through online?   \n",
       "163884  i do not find my husband as attractive, like before. how do i change this?   \n",
       "68663                 how do i make a grilled cheese sandwich without soggy bread?   \n",
       "237879            is there a shortcut code on facebook for the tears of joy emoji?   \n",
       "\n",
       "                                                                                                                             question2  \\\n",
       "id                                                                                                                                       \n",
       "12612                                                       which phone should i buy, the oneplus 2 or meizu mx4? which one is better?   \n",
       "291788                                                                  where can i buy vegetables and fruits in noida through online?   \n",
       "163884  i do not think i have ever given my husband a gift he truly liked. this year i want that to change. what are some suggestions?   \n",
       "68663                                                                        how much cheese can you put in a grilled cheese sandwich?   \n",
       "237879                                                                           should not there be an iphone emoji for tears of joy?   \n",
       "\n",
       "        is_duplicate  \n",
       "id                    \n",
       "12612              0  \n",
       "291788             0  \n",
       "163884             0  \n",
       "68663              0  \n",
       "237879             0  "
      ]
     },
     "execution_count": 7,
     "metadata": {},
     "output_type": "execute_result"
    }
   ],
   "source": [
    "# Applying the preprocessing on the question 1 and question 2 columns\n",
    "df['question1'] = df['question1'].apply(preprocessText)\n",
    "df['question2'] = df['question2'].apply(preprocessText)\n",
    "df.sample(5)"
   ]
  },
  {
   "cell_type": "markdown",
   "metadata": {},
   "source": [
    "#### Why punctuations or parenthesis or acronyms ain't removed from text ? \n",
    "\n",
    "Punctuations have some significance associated with them. Older vectorization techniques were incapable of handling punctuations and therefore they were dropped from the text data. Now, however, with the advance in NLP technology, we have much powerful embeddings that can actually very well handle punctuation symbols. Same goes for acronyms and parenthesis. Modern embeddings are pretrained on large set of documents with corpus size ranging in millions and even billions. Therefore, embeddings are powerful enough to correctly represent the acronyms and parenthesis and the data inside the parenthesis. Therefore, we are not removing the punctuation symbols, parenthesis. \n",
    "Ideally, acronyms should actually be expanded into their complete form and then fed to model, however, it is not possible in this case to come up with a finite set of acronyms that would suffice the problem at hand. Therefore, we are leaving them as it for the embeddings to handle."
   ]
  },
  {
   "cell_type": "markdown",
   "metadata": {},
   "source": [
    "#### Why not do Stemming and Lemmatization ? \n",
    "\n",
    "Stemming and Lemmatization are the approaches used to reduce the total number of words in the vocabulary by replacing the different forms of the words by their root word or stem word. When this stem word is obtained by truncating the last few characters or the  first few characters without bothering about semantic meaning, it is referred to as stemming. When the same procedure is followed in accord with grammar of the language and linguistics in such a way that final stemmed word obtained still has some semantic meaning assoicated with it and is an actual word, it is referred to as Lemmatization. \n",
    "\n",
    "As pretrained embeddings are trained on vocabulary sizes of billions, they can easily handle different words and their different forms making stemming and lemmatization obsolete."
   ]
  },
  {
   "cell_type": "markdown",
   "metadata": {},
   "source": [
    "#### Spliting the data into train and test split"
   ]
  },
  {
   "cell_type": "code",
   "execution_count": 10,
   "metadata": {},
   "outputs": [],
   "source": [
    "# Separating independent features from target feature\n",
    "X,y = df[['question1', 'question2']], df['is_duplicate'].values"
   ]
  },
  {
   "cell_type": "code",
   "execution_count": 12,
   "metadata": {},
   "outputs": [
    {
     "data": {
      "text/plain": [
       "0.02473490366991766"
      ]
     },
     "execution_count": 12,
     "metadata": {},
     "output_type": "execute_result"
    }
   ],
   "source": [
    "# Computing the percentage of data that will be used for testing\n",
    "10000/df.shape[0]"
   ]
  },
  {
   "cell_type": "markdown",
   "metadata": {},
   "source": [
    "There are total of 404287 records in data. 10000 examples would suffice for the rest set which is equivalent to 2.5% of the total dataset size. "
   ]
  },
  {
   "cell_type": "code",
   "execution_count": 39,
   "metadata": {},
   "outputs": [
    {
     "data": {
      "text/plain": [
       "((394179, 2), (10108, 2), (394179,), (10108,))"
      ]
     },
     "execution_count": 39,
     "metadata": {},
     "output_type": "execute_result"
    }
   ],
   "source": [
    "# Splitting the data into train and test set using stratified sampling to preserve the ratio of different class labels in \n",
    "# train and test split\n",
    "X_train, X_test, y_train, y_test = train_test_split(X, y, test_size=0.025, random_state=42, stratify )\n",
    "X_train.shape, X_test.shape, y_train.shape, y_test.shape"
   ]
  },
  {
   "cell_type": "code",
   "execution_count": 42,
   "metadata": {},
   "outputs": [
    {
     "data": {
      "text/plain": [
       "<BarContainer object of 2 artists>"
      ]
     },
     "execution_count": 42,
     "metadata": {},
     "output_type": "execute_result"
    },
    {
     "data": {
      "image/png": "[encoded data removed]",
      "text/plain": [
       "<Figure size 432x288 with 1 Axes>"
      ]
     },
     "metadata": {
      "needs_background": "light"
     },
     "output_type": "display_data"
    }
   ],
   "source": [
    "# Verifying the distribution of target class in train dataset\n",
    "labels = ['0', '1']\n",
    "count_train = [ y_train.shape[0]-sum(y_train), y_train.sum()]\n",
    "plt.bar(labels, count)"
   ]
  },
  {
   "cell_type": "code",
   "execution_count": 43,
   "metadata": {},
   "outputs": [
    {
     "data": {
      "text/plain": [
       "<BarContainer object of 2 artists>"
      ]
     },
     "execution_count": 43,
     "metadata": {},
     "output_type": "execute_result"
    },
    {
     "data": {
      "image/png": "[encoded data removed]",
      "text/plain": [
       "<Figure size 432x288 with 1 Axes>"
      ]
     },
     "metadata": {
      "needs_background": "light"
     },
     "output_type": "display_data"
    }
   ],
   "source": [
    "# Verifying the distribution of target class in test dataset\n",
    "count_test = [ y_test.shape[0] - sum(y_test), y_test.sum() ]\n",
    "plt.bar(labels, count)"
   ]
  },
  {
   "cell_type": "code",
   "execution_count": 44,
   "metadata": {},
   "outputs": [],
   "source": [
    "# Saving the train and test data to files.\n",
    "X_train.to_csv('X_train.tsv', index=None, sep='\\t')\n",
    "X_test.to_csv('X_test.tsv', index=None, sep='\\t')\n",
    "np.save('y_train.npy', y_train)\n",
    "np.save('y_test.npy', y_test)"
   ]
  }
 ],
 "metadata": {
  "kernelspec": {
   "display_name": "Python 3",
   "language": "python",
   "name": "python3"
  },
  "language_info": {
   "codemirror_mode": {
    "name": "ipython",
    "version": 3
   },
   "file_extension": ".py",
   "mimetype": "text/x-python",
   "name": "python",
   "nbconvert_exporter": "python",
   "pygments_lexer": "ipython3",
   "version": "3.7.4"
  }
 },
 "nbformat": 4,
 "nbformat_minor": 2
}
